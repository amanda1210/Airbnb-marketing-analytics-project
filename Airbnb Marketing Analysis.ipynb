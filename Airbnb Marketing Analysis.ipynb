{
 "cells": [
  {
   "cell_type": "code",
   "execution_count": 689,
   "metadata": {},
   "outputs": [],
   "source": [
    "import pandas as pd\n",
    "import numpy as np\n",
    "import matplotlib.pyplot as plt\n",
    "import seaborn as sns\n",
    "import os\n",
    "%matplotlib inline"
   ]
  },
  {
   "cell_type": "markdown",
   "metadata": {},
   "source": [
    "### The data"
   ]
  },
  {
   "cell_type": "code",
   "execution_count": 690,
   "metadata": {},
   "outputs": [],
   "source": [
    "train=pd.read_csv('train_users_2.csv')"
   ]
  },
  {
   "cell_type": "code",
   "execution_count": 691,
   "metadata": {},
   "outputs": [
    {
     "data": {
      "text/html": [
       "<div>\n",
       "<style scoped>\n",
       "    .dataframe tbody tr th:only-of-type {\n",
       "        vertical-align: middle;\n",
       "    }\n",
       "\n",
       "    .dataframe tbody tr th {\n",
       "        vertical-align: top;\n",
       "    }\n",
       "\n",
       "    .dataframe thead th {\n",
       "        text-align: right;\n",
       "    }\n",
       "</style>\n",
       "<table border=\"1\" class=\"dataframe\">\n",
       "  <thead>\n",
       "    <tr style=\"text-align: right;\">\n",
       "      <th></th>\n",
       "      <th>id</th>\n",
       "      <th>date_account_created</th>\n",
       "      <th>timestamp_first_active</th>\n",
       "      <th>date_first_booking</th>\n",
       "      <th>gender</th>\n",
       "      <th>age</th>\n",
       "      <th>signup_method</th>\n",
       "      <th>signup_flow</th>\n",
       "      <th>language</th>\n",
       "      <th>affiliate_channel</th>\n",
       "      <th>affiliate_provider</th>\n",
       "      <th>first_affiliate_tracked</th>\n",
       "      <th>signup_app</th>\n",
       "      <th>first_device_type</th>\n",
       "      <th>first_browser</th>\n",
       "      <th>country_destination</th>\n",
       "    </tr>\n",
       "  </thead>\n",
       "  <tbody>\n",
       "    <tr>\n",
       "      <th>0</th>\n",
       "      <td>gxn3p5htnn</td>\n",
       "      <td>6/28/10</td>\n",
       "      <td>2.009030e+13</td>\n",
       "      <td>NaN</td>\n",
       "      <td>-unknown-</td>\n",
       "      <td>NaN</td>\n",
       "      <td>facebook</td>\n",
       "      <td>0</td>\n",
       "      <td>en</td>\n",
       "      <td>direct</td>\n",
       "      <td>direct</td>\n",
       "      <td>untracked</td>\n",
       "      <td>Web</td>\n",
       "      <td>Mac Desktop</td>\n",
       "      <td>Chrome</td>\n",
       "      <td>NDF</td>\n",
       "    </tr>\n",
       "    <tr>\n",
       "      <th>1</th>\n",
       "      <td>820tgsjxq7</td>\n",
       "      <td>5/25/11</td>\n",
       "      <td>2.009050e+13</td>\n",
       "      <td>NaN</td>\n",
       "      <td>MALE</td>\n",
       "      <td>38.0</td>\n",
       "      <td>facebook</td>\n",
       "      <td>0</td>\n",
       "      <td>en</td>\n",
       "      <td>seo</td>\n",
       "      <td>google</td>\n",
       "      <td>untracked</td>\n",
       "      <td>Web</td>\n",
       "      <td>Mac Desktop</td>\n",
       "      <td>Chrome</td>\n",
       "      <td>NDF</td>\n",
       "    </tr>\n",
       "    <tr>\n",
       "      <th>2</th>\n",
       "      <td>4ft3gnwmtx</td>\n",
       "      <td>9/28/10</td>\n",
       "      <td>2.009060e+13</td>\n",
       "      <td>8/2/10</td>\n",
       "      <td>FEMALE</td>\n",
       "      <td>56.0</td>\n",
       "      <td>basic</td>\n",
       "      <td>3</td>\n",
       "      <td>en</td>\n",
       "      <td>direct</td>\n",
       "      <td>direct</td>\n",
       "      <td>untracked</td>\n",
       "      <td>Web</td>\n",
       "      <td>Windows Desktop</td>\n",
       "      <td>IE</td>\n",
       "      <td>US</td>\n",
       "    </tr>\n",
       "    <tr>\n",
       "      <th>3</th>\n",
       "      <td>bjjt8pjhuk</td>\n",
       "      <td>12/5/11</td>\n",
       "      <td>2.009100e+13</td>\n",
       "      <td>9/8/12</td>\n",
       "      <td>FEMALE</td>\n",
       "      <td>42.0</td>\n",
       "      <td>facebook</td>\n",
       "      <td>0</td>\n",
       "      <td>en</td>\n",
       "      <td>direct</td>\n",
       "      <td>direct</td>\n",
       "      <td>untracked</td>\n",
       "      <td>Web</td>\n",
       "      <td>Mac Desktop</td>\n",
       "      <td>Firefox</td>\n",
       "      <td>other</td>\n",
       "    </tr>\n",
       "    <tr>\n",
       "      <th>4</th>\n",
       "      <td>87mebub9p4</td>\n",
       "      <td>9/14/10</td>\n",
       "      <td>2.009120e+13</td>\n",
       "      <td>2/18/10</td>\n",
       "      <td>-unknown-</td>\n",
       "      <td>41.0</td>\n",
       "      <td>basic</td>\n",
       "      <td>0</td>\n",
       "      <td>en</td>\n",
       "      <td>direct</td>\n",
       "      <td>direct</td>\n",
       "      <td>untracked</td>\n",
       "      <td>Web</td>\n",
       "      <td>Mac Desktop</td>\n",
       "      <td>Chrome</td>\n",
       "      <td>US</td>\n",
       "    </tr>\n",
       "  </tbody>\n",
       "</table>\n",
       "</div>"
      ],
      "text/plain": [
       "           id date_account_created  timestamp_first_active date_first_booking  \\\n",
       "0  gxn3p5htnn              6/28/10            2.009030e+13                NaN   \n",
       "1  820tgsjxq7              5/25/11            2.009050e+13                NaN   \n",
       "2  4ft3gnwmtx              9/28/10            2.009060e+13             8/2/10   \n",
       "3  bjjt8pjhuk              12/5/11            2.009100e+13             9/8/12   \n",
       "4  87mebub9p4              9/14/10            2.009120e+13            2/18/10   \n",
       "\n",
       "      gender   age signup_method  signup_flow language affiliate_channel  \\\n",
       "0  -unknown-   NaN      facebook            0       en            direct   \n",
       "1       MALE  38.0      facebook            0       en               seo   \n",
       "2     FEMALE  56.0         basic            3       en            direct   \n",
       "3     FEMALE  42.0      facebook            0       en            direct   \n",
       "4  -unknown-  41.0         basic            0       en            direct   \n",
       "\n",
       "  affiliate_provider first_affiliate_tracked signup_app first_device_type  \\\n",
       "0             direct               untracked        Web       Mac Desktop   \n",
       "1             google               untracked        Web       Mac Desktop   \n",
       "2             direct               untracked        Web   Windows Desktop   \n",
       "3             direct               untracked        Web       Mac Desktop   \n",
       "4             direct               untracked        Web       Mac Desktop   \n",
       "\n",
       "  first_browser country_destination  \n",
       "0        Chrome                 NDF  \n",
       "1        Chrome                 NDF  \n",
       "2            IE                  US  \n",
       "3       Firefox               other  \n",
       "4        Chrome                  US  "
      ]
     },
     "execution_count": 691,
     "metadata": {},
     "output_type": "execute_result"
    }
   ],
   "source": [
    "train.head()"
   ]
  },
  {
   "cell_type": "code",
   "execution_count": 692,
   "metadata": {},
   "outputs": [
    {
     "data": {
      "text/html": [
       "<div>\n",
       "<style scoped>\n",
       "    .dataframe tbody tr th:only-of-type {\n",
       "        vertical-align: middle;\n",
       "    }\n",
       "\n",
       "    .dataframe tbody tr th {\n",
       "        vertical-align: top;\n",
       "    }\n",
       "\n",
       "    .dataframe thead th {\n",
       "        text-align: right;\n",
       "    }\n",
       "</style>\n",
       "<table border=\"1\" class=\"dataframe\">\n",
       "  <thead>\n",
       "    <tr style=\"text-align: right;\">\n",
       "      <th></th>\n",
       "      <th>timestamp_first_active</th>\n",
       "      <th>age</th>\n",
       "      <th>signup_flow</th>\n",
       "    </tr>\n",
       "  </thead>\n",
       "  <tbody>\n",
       "    <tr>\n",
       "      <th>count</th>\n",
       "      <td>2.134510e+05</td>\n",
       "      <td>125461.000000</td>\n",
       "      <td>213451.000000</td>\n",
       "    </tr>\n",
       "    <tr>\n",
       "      <th>mean</th>\n",
       "      <td>2.013083e+13</td>\n",
       "      <td>49.668335</td>\n",
       "      <td>3.267387</td>\n",
       "    </tr>\n",
       "    <tr>\n",
       "      <th>std</th>\n",
       "      <td>9.253690e+09</td>\n",
       "      <td>155.666612</td>\n",
       "      <td>7.637707</td>\n",
       "    </tr>\n",
       "    <tr>\n",
       "      <th>min</th>\n",
       "      <td>2.009030e+13</td>\n",
       "      <td>1.000000</td>\n",
       "      <td>0.000000</td>\n",
       "    </tr>\n",
       "    <tr>\n",
       "      <th>25%</th>\n",
       "      <td>2.012120e+13</td>\n",
       "      <td>28.000000</td>\n",
       "      <td>0.000000</td>\n",
       "    </tr>\n",
       "    <tr>\n",
       "      <th>50%</th>\n",
       "      <td>2.013090e+13</td>\n",
       "      <td>34.000000</td>\n",
       "      <td>0.000000</td>\n",
       "    </tr>\n",
       "    <tr>\n",
       "      <th>75%</th>\n",
       "      <td>2.014030e+13</td>\n",
       "      <td>43.000000</td>\n",
       "      <td>0.000000</td>\n",
       "    </tr>\n",
       "    <tr>\n",
       "      <th>max</th>\n",
       "      <td>2.014060e+13</td>\n",
       "      <td>2014.000000</td>\n",
       "      <td>25.000000</td>\n",
       "    </tr>\n",
       "  </tbody>\n",
       "</table>\n",
       "</div>"
      ],
      "text/plain": [
       "       timestamp_first_active            age    signup_flow\n",
       "count            2.134510e+05  125461.000000  213451.000000\n",
       "mean             2.013083e+13      49.668335       3.267387\n",
       "std              9.253690e+09     155.666612       7.637707\n",
       "min              2.009030e+13       1.000000       0.000000\n",
       "25%              2.012120e+13      28.000000       0.000000\n",
       "50%              2.013090e+13      34.000000       0.000000\n",
       "75%              2.014030e+13      43.000000       0.000000\n",
       "max              2.014060e+13    2014.000000      25.000000"
      ]
     },
     "execution_count": 692,
     "metadata": {},
     "output_type": "execute_result"
    }
   ],
   "source": [
    "train.describe()"
   ]
  },
  {
   "cell_type": "code",
   "execution_count": 693,
   "metadata": {},
   "outputs": [
    {
     "name": "stdout",
     "output_type": "stream",
     "text": [
      "<class 'pandas.core.frame.DataFrame'>\n",
      "RangeIndex: 213451 entries, 0 to 213450\n",
      "Data columns (total 16 columns):\n",
      " #   Column                   Non-Null Count   Dtype  \n",
      "---  ------                   --------------   -----  \n",
      " 0   id                       213451 non-null  object \n",
      " 1   date_account_created     213451 non-null  object \n",
      " 2   timestamp_first_active   213451 non-null  float64\n",
      " 3   date_first_booking       88908 non-null   object \n",
      " 4   gender                   213451 non-null  object \n",
      " 5   age                      125461 non-null  float64\n",
      " 6   signup_method            213451 non-null  object \n",
      " 7   signup_flow              213451 non-null  int64  \n",
      " 8   language                 213451 non-null  object \n",
      " 9   affiliate_channel        213451 non-null  object \n",
      " 10  affiliate_provider       213451 non-null  object \n",
      " 11  first_affiliate_tracked  207386 non-null  object \n",
      " 12  signup_app               213451 non-null  object \n",
      " 13  first_device_type        213451 non-null  object \n",
      " 14  first_browser            213451 non-null  object \n",
      " 15  country_destination      213451 non-null  object \n",
      "dtypes: float64(2), int64(1), object(13)\n",
      "memory usage: 26.1+ MB\n"
     ]
    }
   ],
   "source": [
    "train.info()"
   ]
  },
  {
   "cell_type": "code",
   "execution_count": 694,
   "metadata": {},
   "outputs": [
    {
     "data": {
      "text/plain": [
       "id                              0\n",
       "date_account_created            0\n",
       "timestamp_first_active          0\n",
       "date_first_booking         124543\n",
       "gender                          0\n",
       "age                         87990\n",
       "signup_method                   0\n",
       "signup_flow                     0\n",
       "language                        0\n",
       "affiliate_channel               0\n",
       "affiliate_provider              0\n",
       "first_affiliate_tracked      6065\n",
       "signup_app                      0\n",
       "first_device_type               0\n",
       "first_browser                   0\n",
       "country_destination             0\n",
       "dtype: int64"
      ]
     },
     "execution_count": 694,
     "metadata": {},
     "output_type": "execute_result"
    }
   ],
   "source": [
    "train.isnull().sum()\n",
    "# date_first_booking has 124543 NaN; \n",
    "#87990 NaN for Age value; \n",
    "#first_affiliate_tracked 6065;"
   ]
  },
  {
   "cell_type": "code",
   "execution_count": 695,
   "metadata": {},
   "outputs": [
    {
     "data": {
      "text/plain": [
       "id                         213451\n",
       "date_account_created         1634\n",
       "timestamp_first_active         59\n",
       "date_first_booking           1976\n",
       "gender                          4\n",
       "age                           127\n",
       "signup_method                   3\n",
       "signup_flow                    17\n",
       "language                       25\n",
       "affiliate_channel               8\n",
       "affiliate_provider             18\n",
       "first_affiliate_tracked         7\n",
       "signup_app                      4\n",
       "first_device_type               9\n",
       "first_browser                  52\n",
       "country_destination            12\n",
       "dtype: int64"
      ]
     },
     "execution_count": 695,
     "metadata": {},
     "output_type": "execute_result"
    }
   ],
   "source": [
    "train.nunique()"
   ]
  },
  {
   "cell_type": "markdown",
   "metadata": {},
   "source": [
    "### EDA"
   ]
  },
  {
   "cell_type": "code",
   "execution_count": 696,
   "metadata": {},
   "outputs": [
    {
     "data": {
      "text/plain": [
       "<matplotlib.axes._subplots.AxesSubplot at 0x1b31db1d50>"
      ]
     },
     "execution_count": 696,
     "metadata": {},
     "output_type": "execute_result"
    },
    {
     "data": {
      "image/png": "[encoded data removed]",
      "text/plain": [
       "<Figure size 432x288 with 1 Axes>"
      ]
     },
     "metadata": {
      "needs_background": "light"
     },
     "output_type": "display_data"
    }
   ],
   "source": [
    "# Plot missing value for each column\n",
    "sns.heatmap(train.isnull(),yticklabels=False,cbar=False,cmap='viridis')\n",
    "# There are a lot of null in date_first_booking and age columns."
   ]
  },
  {
   "cell_type": "markdown",
   "metadata": {},
   "source": [
    "### Data preprocessing"
   ]
  },
  {
   "cell_type": "markdown",
   "metadata": {},
   "source": [
    "### 1. Country_destination"
   ]
  },
  {
   "cell_type": "code",
   "execution_count": 697,
   "metadata": {},
   "outputs": [
    {
     "data": {
      "text/plain": [
       "<matplotlib.axes._subplots.AxesSubplot at 0x1a24688b90>"
      ]
     },
     "execution_count": 697,
     "metadata": {},
     "output_type": "execute_result"
    },
    {
     "data": {
      "image/png": "[encoded data removed]",
      "text/plain": [
       "<Figure size 432x288 with 1 Axes>"
      ]
     },
     "metadata": {
      "needs_background": "light"
     },
     "output_type": "display_data"
    }
   ],
   "source": [
    "sns.countplot(x='country_destination', data=train)\n",
    "#We can divide the country_destination into 3 category: NDF, US, Outside US"
   ]
  },
  {
   "cell_type": "code",
   "execution_count": 698,
   "metadata": {},
   "outputs": [],
   "source": [
    "# This is a function to categorize destination\n",
    "# require input: a column of countries\n",
    "# output: a new col of categorized countries\n",
    "def destination_category(country):\n",
    "    if country!='NDF' and country!='US':\n",
    "        country='Outside US'\n",
    "    return country\n",
    "\n",
    "train['country']=train['country_destination'].apply(destination_category)"
   ]
  },
  {
   "cell_type": "code",
   "execution_count": 699,
   "metadata": {},
   "outputs": [
    {
     "data": {
      "text/html": [
       "<div>\n",
       "<style scoped>\n",
       "    .dataframe tbody tr th:only-of-type {\n",
       "        vertical-align: middle;\n",
       "    }\n",
       "\n",
       "    .dataframe tbody tr th {\n",
       "        vertical-align: top;\n",
       "    }\n",
       "\n",
       "    .dataframe thead th {\n",
       "        text-align: right;\n",
       "    }\n",
       "</style>\n",
       "<table border=\"1\" class=\"dataframe\">\n",
       "  <thead>\n",
       "    <tr style=\"text-align: right;\">\n",
       "      <th></th>\n",
       "      <th>country</th>\n",
       "      <th>country_destination</th>\n",
       "    </tr>\n",
       "  </thead>\n",
       "  <tbody>\n",
       "    <tr>\n",
       "      <th>0</th>\n",
       "      <td>NDF</td>\n",
       "      <td>NDF</td>\n",
       "    </tr>\n",
       "    <tr>\n",
       "      <th>1</th>\n",
       "      <td>NDF</td>\n",
       "      <td>NDF</td>\n",
       "    </tr>\n",
       "    <tr>\n",
       "      <th>2</th>\n",
       "      <td>US</td>\n",
       "      <td>US</td>\n",
       "    </tr>\n",
       "    <tr>\n",
       "      <th>3</th>\n",
       "      <td>Outside US</td>\n",
       "      <td>other</td>\n",
       "    </tr>\n",
       "    <tr>\n",
       "      <th>4</th>\n",
       "      <td>US</td>\n",
       "      <td>US</td>\n",
       "    </tr>\n",
       "  </tbody>\n",
       "</table>\n",
       "</div>"
      ],
      "text/plain": [
       "      country country_destination\n",
       "0         NDF                 NDF\n",
       "1         NDF                 NDF\n",
       "2          US                  US\n",
       "3  Outside US               other\n",
       "4          US                  US"
      ]
     },
     "execution_count": 699,
     "metadata": {},
     "output_type": "execute_result"
    }
   ],
   "source": [
    "train[['country','country_destination']].head()"
   ]
  },
  {
   "cell_type": "code",
   "execution_count": 700,
   "metadata": {},
   "outputs": [
    {
     "name": "stdout",
     "output_type": "stream",
     "text": [
      "213451\n"
     ]
    },
    {
     "data": {
      "image/png": "[encoded data removed]",
      "text/plain": [
       "<Figure size 576x432 with 1 Axes>"
      ]
     },
     "metadata": {
      "needs_background": "light"
     },
     "output_type": "display_data"
    }
   ],
   "source": [
    "from matplotlib.pyplot import show\n",
    "ncount=len(train['country'])\n",
    "print(ncount)\n",
    "plt.figure(figsize=(8,6))\n",
    "cpt=sns.countplot(x='country', data=train)\n",
    "plt.title=\"Destination distribution\"\n",
    "plt.xlabel(\"Country\")\n",
    "plt.ylabel(\"Frequency [%]\")\n",
    "\n",
    "for p in cpt.patches:\n",
    "    height = p.get_height()\n",
    "    cpt.text(x=p.get_x()+p.get_width()/2,\n",
    "            y=height + 3,\n",
    "            s='{:1.0f}%'.format((height/ncount)*100),\n",
    "            ha=\"center\") \n",
    "show()"
   ]
  },
  {
   "cell_type": "markdown",
   "metadata": {},
   "source": [
    "### 2. Gender"
   ]
  },
  {
   "cell_type": "code",
   "execution_count": 701,
   "metadata": {},
   "outputs": [],
   "source": [
    "# replace -unknown- with np.nan\n",
    "train['gender'].value_counts()\n",
    "train['gender']=train['gender'].replace('-unknown-',np.nan)"
   ]
  },
  {
   "cell_type": "code",
   "execution_count": 702,
   "metadata": {},
   "outputs": [
    {
     "data": {
      "text/plain": [
       "NaN       95688\n",
       "FEMALE    63041\n",
       "MALE      54440\n",
       "OTHER       282\n",
       "Name: gender, dtype: int64"
      ]
     },
     "execution_count": 702,
     "metadata": {},
     "output_type": "execute_result"
    }
   ],
   "source": [
    "train['gender'].value_counts(dropna=False)"
   ]
  },
  {
   "cell_type": "markdown",
   "metadata": {},
   "source": [
    "#### 2.1 country='NDF'"
   ]
  },
  {
   "cell_type": "code",
   "execution_count": 703,
   "metadata": {},
   "outputs": [
    {
     "data": {
      "text/plain": [
       "NaN       66670\n",
       "FEMALE    31048\n",
       "MALE      26719\n",
       "OTHER       106\n",
       "Name: gender, dtype: int64"
      ]
     },
     "execution_count": 703,
     "metadata": {},
     "output_type": "execute_result"
    }
   ],
   "source": [
    "# Filter out all the columns with country_destination=NDF\n",
    "df_ndf=train[train['country']=='NDF']\n",
    "df_ndf['gender'].value_counts(dropna=False)"
   ]
  },
  {
   "cell_type": "code",
   "execution_count": 704,
   "metadata": {},
   "outputs": [
    {
     "data": {
      "text/plain": [
       "FEMALE    0.536485\n",
       "MALE      0.461683\n",
       "OTHER     0.001832\n",
       "Name: gender, dtype: float64"
      ]
     },
     "execution_count": 704,
     "metadata": {},
     "output_type": "execute_result"
    }
   ],
   "source": [
    "# Find proportion of each gender in not-null value:\n",
    "not_null=df_ndf[df_ndf['gender'].notnull()]['gender']\n",
    "not_null.value_counts(normalize=True)"
   ]
  },
  {
   "cell_type": "code",
   "execution_count": 705,
   "metadata": {},
   "outputs": [
    {
     "data": {
      "text/plain": [
       "Int64Index([     0,     16,     18,     23,     26,     32,     35,     38,\n",
       "                43,     48,\n",
       "            ...\n",
       "            213435, 213436, 213437, 213438, 213442, 213444, 213447, 213448,\n",
       "            213449, 213450],\n",
       "           dtype='int64', length=66670)"
      ]
     },
     "execution_count": 705,
     "metadata": {},
     "output_type": "execute_result"
    }
   ],
   "source": [
    "# extract the index of nan value in gender column\n",
    "nan_row_index_list=df_ndf[df_ndf['gender'].isnull()].index\n",
    "nan_row_index_list"
   ]
  },
  {
   "cell_type": "code",
   "execution_count": 706,
   "metadata": {},
   "outputs": [
    {
     "data": {
      "text/plain": [
       "0        FEMALE\n",
       "1          MALE\n",
       "2          MALE\n",
       "3        FEMALE\n",
       "4        FEMALE\n",
       "          ...  \n",
       "66665      MALE\n",
       "66666    FEMALE\n",
       "66667      MALE\n",
       "66668    FEMALE\n",
       "66669    FEMALE\n",
       "Length: 66670, dtype: object"
      ]
     },
     "execution_count": 706,
     "metadata": {},
     "output_type": "execute_result"
    }
   ],
   "source": [
    "# generate the gender value that will be fill the nan value\n",
    "filled_value=pd.Series(np.random.choice(\n",
    "            ['FEMALE', 'MALE','OTHER'],\n",
    "            p=[0.536, 0.462,0.002], \n",
    "            size=len(nan_row_index_list)))\n",
    "filled_value"
   ]
  },
  {
   "cell_type": "code",
   "execution_count": 707,
   "metadata": {},
   "outputs": [
    {
     "data": {
      "text/plain": [
       "FEMALE    66830\n",
       "MALE      57481\n",
       "OTHER       232\n",
       "Name: gender, dtype: int64"
      ]
     },
     "execution_count": 707,
     "metadata": {},
     "output_type": "execute_result"
    }
   ],
   "source": [
    "# Insert the new produced value into null\n",
    "i = 0\n",
    "for idx in nan_row_index_list:\n",
    "    df_ndf.at[idx, 'gender'] = filled_value[i]\n",
    "    i = i + 1\n",
    "    \n",
    "df_ndf['gender'].value_counts(dropna=False)"
   ]
  },
  {
   "cell_type": "code",
   "execution_count": 708,
   "metadata": {},
   "outputs": [
    {
     "data": {
      "text/plain": [
       "FEMALE    66830\n",
       "MALE      57481\n",
       "OTHER       232\n",
       "Name: gender, dtype: int64"
      ]
     },
     "execution_count": 708,
     "metadata": {},
     "output_type": "execute_result"
    }
   ],
   "source": [
    "train[train['country']=='NDF']=df_ndf\n",
    "train[train['country']=='NDF']['gender'].value_counts()"
   ]
  },
  {
   "cell_type": "code",
   "execution_count": 709,
   "metadata": {},
   "outputs": [],
   "source": [
    "train[train['country']=='NDF']=df_ndf"
   ]
  },
  {
   "cell_type": "markdown",
   "metadata": {},
   "source": [
    "#### 2.2 country='US'"
   ]
  },
  {
   "cell_type": "code",
   "execution_count": 710,
   "metadata": {},
   "outputs": [
    {
     "data": {
      "text/plain": [
       "FEMALE    0.536920\n",
       "MALE      0.460335\n",
       "OTHER     0.002744\n",
       "Name: gender, dtype: float64"
      ]
     },
     "execution_count": 710,
     "metadata": {},
     "output_type": "execute_result"
    }
   ],
   "source": [
    "# Calculate the proportion for each non-null value\n",
    "df_us=train[train['country']=='US']\n",
    "df_us[df_us['gender'].notnull()]['gender'].value_counts(normalize=True)\n",
    "#df_us[df_us['gender'].notnull()]['gender'].value_counts()"
   ]
  },
  {
   "cell_type": "code",
   "execution_count": 711,
   "metadata": {},
   "outputs": [
    {
     "data": {
      "text/plain": [
       "Int64Index([     4,      5,      9,     17,     20,     22,     29,     47,\n",
       "                49,     51,\n",
       "            ...\n",
       "            213294, 213329, 213340, 213343, 213373, 213376, 213398, 213405,\n",
       "            213406, 213410],\n",
       "           dtype='int64', length=20109)"
      ]
     },
     "execution_count": 711,
     "metadata": {},
     "output_type": "execute_result"
    }
   ],
   "source": [
    "us_nan_row_index=df_us[df_us['gender'].isnull()].index\n",
    "us_nan_row_index"
   ]
  },
  {
   "cell_type": "code",
   "execution_count": 712,
   "metadata": {},
   "outputs": [
    {
     "data": {
      "text/plain": [
       "0        FEMALE\n",
       "1          MALE\n",
       "2        FEMALE\n",
       "3        FEMALE\n",
       "4          MALE\n",
       "          ...  \n",
       "20104    FEMALE\n",
       "20105    FEMALE\n",
       "20106      MALE\n",
       "20107      MALE\n",
       "20108    FEMALE\n",
       "Length: 20109, dtype: object"
      ]
     },
     "execution_count": 712,
     "metadata": {},
     "output_type": "execute_result"
    }
   ],
   "source": [
    "us_filled_value=pd.Series(np.random.choice(\n",
    "            ['FEMALE', 'MALE','OTHER'],\n",
    "            p=[0.537, 0.460,0.003], \n",
    "            size=len(us_nan_row_index)))\n",
    "us_filled_value"
   ]
  },
  {
   "cell_type": "code",
   "execution_count": 713,
   "metadata": {},
   "outputs": [
    {
     "data": {
      "text/plain": [
       "FEMALE    33406\n",
       "MALE      28791\n",
       "OTHER       179\n",
       "Name: gender, dtype: int64"
      ]
     },
     "execution_count": 713,
     "metadata": {},
     "output_type": "execute_result"
    }
   ],
   "source": [
    "i=0\n",
    "for idx in us_nan_row_index:\n",
    "    df_us.at[idx,'gender']=us_filled_value[i]\n",
    "    i=i+1\n",
    "df_us['gender'].value_counts(dropna=False)"
   ]
  },
  {
   "cell_type": "code",
   "execution_count": 714,
   "metadata": {},
   "outputs": [],
   "source": [
    "train[train['country']=='US']=df_us"
   ]
  },
  {
   "cell_type": "markdown",
   "metadata": {},
   "source": [
    "#### 2.3 country='Outside US'"
   ]
  },
  {
   "cell_type": "code",
   "execution_count": 715,
   "metadata": {},
   "outputs": [
    {
     "data": {
      "text/plain": [
       "FEMALE    0.527663\n",
       "MALE      0.468933\n",
       "OTHER     0.003405\n",
       "Name: gender, dtype: float64"
      ]
     },
     "execution_count": 715,
     "metadata": {},
     "output_type": "execute_result"
    }
   ],
   "source": [
    "# Calculate the proportion for each non-null value\n",
    "df_outside_us=train[train['country']=='Outside US']\n",
    "df_outside_us['gender'].value_counts(normalize=True)"
   ]
  },
  {
   "cell_type": "code",
   "execution_count": 716,
   "metadata": {},
   "outputs": [
    {
     "data": {
      "text/plain": [
       "Int64Index([     3,     12,     15,     19,     25,     28,     30,     44,\n",
       "                46,     57,\n",
       "            ...\n",
       "            213371, 213372, 213388, 213390, 213400, 213401, 213404, 213407,\n",
       "            213415, 213441],\n",
       "           dtype='int64', length=26532)"
      ]
     },
     "execution_count": 716,
     "metadata": {},
     "output_type": "execute_result"
    }
   ],
   "source": [
    "outside_us_row_index=df_outside_us['gender'].isnull().index\n",
    "outside_us_row_index"
   ]
  },
  {
   "cell_type": "code",
   "execution_count": 717,
   "metadata": {},
   "outputs": [
    {
     "data": {
      "text/plain": [
       "0          MALE\n",
       "1          MALE\n",
       "2          MALE\n",
       "3          MALE\n",
       "4        FEMALE\n",
       "          ...  \n",
       "26527    FEMALE\n",
       "26528    FEMALE\n",
       "26529    FEMALE\n",
       "26530    FEMALE\n",
       "26531    FEMALE\n",
       "Length: 26532, dtype: object"
      ]
     },
     "execution_count": 717,
     "metadata": {},
     "output_type": "execute_result"
    }
   ],
   "source": [
    "outside_us_filled_value=pd.Series(np.random.choice(['FEMALE','MALE','OTHER'], \n",
    "                                                   p=[0.528,0.469,0.003], size=len(outside_us_row_index)))\n",
    "outside_us_filled_value"
   ]
  },
  {
   "cell_type": "code",
   "execution_count": 718,
   "metadata": {},
   "outputs": [
    {
     "data": {
      "text/plain": [
       "FEMALE    13984\n",
       "MALE      12467\n",
       "OTHER        81\n",
       "Name: gender, dtype: int64"
      ]
     },
     "execution_count": 718,
     "metadata": {},
     "output_type": "execute_result"
    }
   ],
   "source": [
    "#Fill in the value\n",
    "i = 0\n",
    "for idx in outside_us_row_index:\n",
    "    df_outside_us.at[idx,'gender']=outside_us_filled_value[i]\n",
    "    i=i+1\n",
    "\n",
    "df_outside_us['gender'].value_counts(dropna=False)"
   ]
  },
  {
   "cell_type": "code",
   "execution_count": 719,
   "metadata": {},
   "outputs": [],
   "source": [
    "train[train['country']=='Outside US']=df_outside_us"
   ]
  },
  {
   "cell_type": "code",
   "execution_count": 720,
   "metadata": {
    "scrolled": true
   },
   "outputs": [
    {
     "data": {
      "text/plain": [
       "FEMALE    114220\n",
       "MALE       98739\n",
       "OTHER        492\n",
       "Name: gender, dtype: int64"
      ]
     },
     "execution_count": 720,
     "metadata": {},
     "output_type": "execute_result"
    }
   ],
   "source": [
    "train['gender'].value_counts(dropna=False)\n",
    "# All the null in gender has been replaced with female, male, other proportionally."
   ]
  },
  {
   "cell_type": "code",
   "execution_count": 721,
   "metadata": {},
   "outputs": [],
   "source": [
    "train[train['country']=='Outside US']=df_outside_us"
   ]
  },
  {
   "cell_type": "markdown",
   "metadata": {},
   "source": [
    "### 3. Age"
   ]
  },
  {
   "cell_type": "code",
   "execution_count": 722,
   "metadata": {},
   "outputs": [
    {
     "data": {
      "text/plain": [
       "<bound method Series.count of 0        NaN\n",
       "5        NaN\n",
       "12       NaN\n",
       "16       NaN\n",
       "18       NaN\n",
       "          ..\n",
       "213442   NaN\n",
       "213444   NaN\n",
       "213447   NaN\n",
       "213449   NaN\n",
       "213450   NaN\n",
       "Name: age, Length: 87990, dtype: float64>"
      ]
     },
     "execution_count": 722,
     "metadata": {},
     "output_type": "execute_result"
    }
   ],
   "source": [
    "# Check the null value in age:\n",
    "train[train['age'].isnull()]['age'].count"
   ]
  },
  {
   "cell_type": "code",
   "execution_count": 723,
   "metadata": {},
   "outputs": [
    {
     "data": {
      "text/plain": [
       "<matplotlib.axes._subplots.AxesSubplot at 0x1a245e7210>"
      ]
     },
     "execution_count": 723,
     "metadata": {},
     "output_type": "execute_result"
    },
    {
     "data": {
      "image/png": "[encoded data removed]",
      "text/plain": [
       "<Figure size 576x432 with 1 Axes>"
      ]
     },
     "metadata": {
      "needs_background": "light"
     },
     "output_type": "display_data"
    }
   ],
   "source": [
    "# Check the distribution of age\n",
    "plt.figure(figsize=(8,6))\n",
    "sns.distplot(train['age'])\n",
    "# We can see there are some data point appear at around 1750, which is not reasonable"
   ]
  },
  {
   "cell_type": "code",
   "execution_count": 724,
   "metadata": {},
   "outputs": [
    {
     "data": {
      "text/plain": [
       "count    125461.000000\n",
       "mean         37.217876\n",
       "std          14.180990\n",
       "min           1.000000\n",
       "25%          28.000000\n",
       "50%          34.000000\n",
       "75%          43.000000\n",
       "max         150.000000\n",
       "Name: age, dtype: float64"
      ]
     },
     "execution_count": 724,
     "metadata": {},
     "output_type": "execute_result"
    }
   ],
   "source": [
    "# We can take a guess that the age that is larger than 1750 regard the birth year as age by mistake so we use 2017-x\n",
    "train[train['age']>=1750]['age']\n",
    "index=train[train['age']>=1750]['age'].index\n",
    "index\n",
    "\n",
    "for i in index:\n",
    "    train.at[i,'age']=2017-train.at[i,'age']\n",
    "\n",
    "train['age'].describe()"
   ]
  },
  {
   "cell_type": "code",
   "execution_count": 725,
   "metadata": {
    "scrolled": true
   },
   "outputs": [
    {
     "name": "stdout",
     "output_type": "stream",
     "text": [
      "37.0\n"
     ]
    }
   ],
   "source": [
    "# Fill in the null and outlier with mean of age which is between 10 and 100\n",
    "age_not_null=train[train['age'].notnull()]\n",
    "ten_hundred=age_not_null[(age_not_null['age']>=10) & (age_not_null['age']<=100)]\n",
    "age_mean=round(ten_hundred['age'].mean(),0)\n",
    "print(age_mean)\n",
    "\n",
    "train.loc[(train['age']<10) | (train['age']>100), 'age'] = np.nan\n",
    "\n",
    "train['age']=train['age'].fillna(age_mean)"
   ]
  },
  {
   "cell_type": "code",
   "execution_count": 726,
   "metadata": {},
   "outputs": [],
   "source": [
    "# Divide age into groups:\n",
    "bins=[0,15,26,37,48,59,70,81,90,100]\n",
    "labels=['0~14','15~25','26~36','37~47','48~58','59~69','70~80','81~91','>92']\n",
    "\n",
    "train['age_group']=pd.cut(train['age'], bins=bins, labels=labels, right=False)"
   ]
  },
  {
   "cell_type": "markdown",
   "metadata": {},
   "source": [
    "### 4. Affiliate_provider & first_brower"
   ]
  },
  {
   "cell_type": "code",
   "execution_count": 727,
   "metadata": {},
   "outputs": [],
   "source": [
    "columns=['signup_method','signup_flow','language','affiliate_channel',\n",
    "   'affiliate_provider','first_affiliate_tracked','signup_app',\n",
    "   'first_device_type','first_browser']\n",
    "for i in columns:\n",
    "    train[i].value_counts(dropna=False)"
   ]
  },
  {
   "cell_type": "code",
   "execution_count": 728,
   "metadata": {
    "scrolled": true
   },
   "outputs": [
    {
     "data": {
      "text/plain": [
       "<function matplotlib.pyplot.show(*args, **kw)>"
      ]
     },
     "execution_count": 728,
     "metadata": {},
     "output_type": "execute_result"
    },
    {
     "data": {
      "image/png": "[encoded data removed]",
      "text/plain": [
       "<Figure size 432x288 with 1 Axes>"
      ]
     },
     "metadata": {
      "needs_background": "light"
     },
     "output_type": "display_data"
    }
   ],
   "source": [
    "ax=sns.countplot(train['affiliate_provider'],\n",
    "                 order = train['affiliate_provider'].value_counts().index)\n",
    "ax.set_xticklabels(ax.get_xticklabels(), rotation =40, ha='right')\n",
    "plt.tight_layout()\n",
    "plt.show"
   ]
  },
  {
   "cell_type": "markdown",
   "metadata": {},
   "source": [
    "So I decided to keep direct to facebook and put others as other since the data set is too small."
   ]
  },
  {
   "cell_type": "code",
   "execution_count": 729,
   "metadata": {},
   "outputs": [],
   "source": [
    "#train['affiliate_provider'].index\n",
    "for i in train['affiliate_provider'].index:\n",
    "    if train.at[i,'affiliate_provider']=='direct':\n",
    "        train.at[i,'affiliate_prov_group']='direct'\n",
    "    elif train.at[i,'affiliate_provider']=='google':\n",
    "        train.at[i,'affiliate_prov_group']='google'\n",
    "    elif train.at[i,'affiliate_provider']=='craigslist':\n",
    "        train.at[i,'affiliate_prov_group']='craigslist'\n",
    "    elif train.at[i,'affiliate_provider']=='bing':\n",
    "        train.at[i,'affiliate_prov_group']='bing'\n",
    "    elif train.at[i,'affiliate_provider']=='facebook':\n",
    "        train.at[i,'affiliate_prov_group']='facebook'\n",
    "    else:\n",
    "        train.at[i,'affiliate_prov_group']='other'"
   ]
  },
  {
   "cell_type": "code",
   "execution_count": 730,
   "metadata": {},
   "outputs": [
    {
     "data": {
      "text/plain": [
       "direct        137426\n",
       "google         51693\n",
       "other          16260\n",
       "craigslist      3471\n",
       "bing            2328\n",
       "facebook        2273\n",
       "Name: affiliate_prov_group, dtype: int64"
      ]
     },
     "execution_count": 730,
     "metadata": {},
     "output_type": "execute_result"
    }
   ],
   "source": [
    "train['affiliate_prov_group'].value_counts()"
   ]
  },
  {
   "cell_type": "code",
   "execution_count": 731,
   "metadata": {},
   "outputs": [
    {
     "data": {
      "image/png": "[encoded data removed]",
      "text/plain": [
       "<Figure size 576x432 with 1 Axes>"
      ]
     },
     "metadata": {
      "needs_background": "light"
     },
     "output_type": "display_data"
    }
   ],
   "source": [
    "plt.figure(figsize=(8,6))\n",
    "ax=sns.countplot(train['first_browser'],\n",
    "                 order=train['first_browser'].value_counts().index)\n",
    "ax.set_xticklabels(ax.get_xticklabels(),rotation=90, ha='right')\n",
    "plt.tight_layout()\n",
    "plt.show()"
   ]
  },
  {
   "cell_type": "code",
   "execution_count": 732,
   "metadata": {},
   "outputs": [],
   "source": [
    "for i in train['first_browser'].index:\n",
    "    if train.at[i,'first_browser']=='Chrome':\n",
    "        train.at[i,'first_browser_group']='Chrome'\n",
    "    elif train.at[i,'first_browser']=='Safari':\n",
    "        train.at[i,'first_browser_group']='Safari'\n",
    "    elif train.at[i,'first_browser']=='Firefox':\n",
    "        train.at[i,'first_browser_group']='Firefox'\n",
    "    elif train.at[i,'first_browser']=='IE':\n",
    "        train.at[i,'first_browser_group']='IE'\n",
    "    elif train.at[i,'first_browser']=='Mobile Safari':\n",
    "        train.at[i,'first_browser_group']='Mobile Safari'\n",
    "    elif train.at[i,'first_browser']=='Chrome Mobile':\n",
    "        train.at[i,'first_browser_group']='Chrome Mobile'\n",
    "    elif train.at[i,'first_browser']=='Android Browser':\n",
    "        train.at[i,'first_browser_group']='Chrome Browser'\n",
    "    elif train.at[i,'first_browser']=='-unknown-':\n",
    "        train.at[i,'first_browser_group']=np.nan\n",
    "    else:\n",
    "        train.at[i,'first_browser_group']='Other'"
   ]
  },
  {
   "cell_type": "code",
   "execution_count": 733,
   "metadata": {},
   "outputs": [
    {
     "data": {
      "text/plain": [
       "Chrome            0.342912\n",
       "Safari            0.242603\n",
       "Firefox           0.180761\n",
       "IE                0.113156\n",
       "Mobile Safari     0.103521\n",
       "Chrome Mobile     0.006821\n",
       "Other             0.005656\n",
       "Chrome Browser    0.004571\n",
       "Name: first_browser_group, dtype: float64"
      ]
     },
     "execution_count": 733,
     "metadata": {},
     "output_type": "execute_result"
    }
   ],
   "source": [
    "train['first_browser_group'].value_counts(dropna=False)\n",
    "browser_pct=train['first_browser_group'].value_counts()/train['first_browser_group'].count()\n",
    "browser_pct"
   ]
  },
  {
   "cell_type": "code",
   "execution_count": 734,
   "metadata": {},
   "outputs": [
    {
     "data": {
      "text/plain": [
       "0               Safari\n",
       "1               Safari\n",
       "2               Safari\n",
       "3               Safari\n",
       "4               Chrome\n",
       "             ...      \n",
       "27261          Firefox\n",
       "27262    Mobile Safari\n",
       "27263           Chrome\n",
       "27264           Safari\n",
       "27265           Safari\n",
       "Length: 27266, dtype: object"
      ]
     },
     "execution_count": 734,
     "metadata": {},
     "output_type": "execute_result"
    }
   ],
   "source": [
    "nan_browser_index_list=train[train['first_browser_group'].isnull()]['first_browser_group'].index\n",
    "\n",
    "filled_columns=browser_pct.index\n",
    "pct_values=browser_pct.values\n",
    "\n",
    "browser_filled_value=pd.Series(np.random.choice(\n",
    "            filled_columns,\n",
    "            p=pct_values, \n",
    "            size=len(nan_browser_index_list)))\n",
    "browser_filled_value"
   ]
  },
  {
   "cell_type": "code",
   "execution_count": 735,
   "metadata": {},
   "outputs": [],
   "source": [
    "i = 0\n",
    "for idx in nan_browser_index_list:\n",
    "    train.at[idx,'first_browser_group']=browser_filled_value[i]\n",
    "    i=i+1"
   ]
  },
  {
   "cell_type": "code",
   "execution_count": 736,
   "metadata": {},
   "outputs": [
    {
     "data": {
      "text/plain": [
       "Chrome            73053\n",
       "Safari            51679\n",
       "Firefox           38684\n",
       "IE                24210\n",
       "Mobile Safari     22176\n",
       "Chrome Mobile      1464\n",
       "Other              1199\n",
       "Chrome Browser      986\n",
       "Name: first_browser_group, dtype: int64"
      ]
     },
     "execution_count": 736,
     "metadata": {},
     "output_type": "execute_result"
    }
   ],
   "source": [
    "train['first_browser_group'].value_counts(dropna=False)"
   ]
  },
  {
   "cell_type": "markdown",
   "metadata": {},
   "source": [
    "Write the processed dataset into a new csv file"
   ]
  },
  {
   "cell_type": "code",
   "execution_count": 737,
   "metadata": {},
   "outputs": [],
   "source": [
    "train.to_csv('train_users_3.csv')"
   ]
  },
  {
   "cell_type": "markdown",
   "metadata": {},
   "source": [
    "### Data Visualization"
   ]
  },
  {
   "cell_type": "markdown",
   "metadata": {},
   "source": [
    "1.1 country vs. gender"
   ]
  },
  {
   "cell_type": "code",
   "execution_count": 738,
   "metadata": {},
   "outputs": [
    {
     "name": "stdout",
     "output_type": "stream",
     "text": [
      "213451\n"
     ]
    },
    {
     "data": {
      "image/png": "[encoded data removed]",
      "text/plain": [
       "<Figure size 576x432 with 1 Axes>"
      ]
     },
     "metadata": {
      "needs_background": "light"
     },
     "output_type": "display_data"
    }
   ],
   "source": [
    "from matplotlib.pyplot import show\n",
    "ncount=len(train['country'])\n",
    "print(ncount)\n",
    "plt.figure(figsize=(8,6))\n",
    "ax1=sns.countplot(x='country', data=train,hue='gender')\n",
    "plt.title=\"Destination distribution\"\n",
    "plt.xlabel(\"Country\")\n",
    "plt.ylabel(\"Frequency [%]\")\n",
    "\n",
    "for p in ax1.patches:\n",
    "    height = p.get_height()\n",
    "    ax1.text(x=p.get_x()+p.get_width()/2,\n",
    "            y=height + 3,\n",
    "            s='{:1.0f}%'.format((height/ncount)*100),\n",
    "            ha=\"center\") \n",
    "show()"
   ]
  },
  {
   "cell_type": "markdown",
   "metadata": {},
   "source": [
    "Among the three group, we can conclude that female is more likely to book a trip than male, the pct is about"
   ]
  },
  {
   "cell_type": "markdown",
   "metadata": {},
   "source": [
    "1.2 country vs age_group"
   ]
  },
  {
   "cell_type": "code",
   "execution_count": 739,
   "metadata": {},
   "outputs": [
    {
     "data": {
      "image/png": "[encoded data removed]",
      "text/plain": [
       "<Figure size 576x432 with 1 Axes>"
      ]
     },
     "metadata": {
      "needs_background": "light"
     },
     "output_type": "display_data"
    }
   ],
   "source": [
    "plt.figure(figsize=(8,6))\n",
    "ax2=sns.countplot(x='age_group', data=train, hue='country')"
   ]
  },
  {
   "cell_type": "markdown",
   "metadata": {},
   "source": [
    "- The age group between 26\\~47 are more likely to book the trip than other age group. \\\n",
    "- The range of age to book a trip is from 15\\~80. \\\n",
    "- 37\\~47 age group shows an interests for the destination that is outside US. \\\n",
    "- We also need to figure out for 37~47 age group, it's essential to figure out what's the true value matches NDF since we can see a large number of users booked the trip in this group. "
   ]
  },
  {
   "cell_type": "markdown",
   "metadata": {},
   "source": [
    "1.3 language distribution"
   ]
  },
  {
   "cell_type": "code",
   "execution_count": 740,
   "metadata": {},
   "outputs": [
    {
     "data": {
      "image/png": "[encoded data removed]",
      "text/plain": [
       "<Figure size 432x288 with 1 Axes>"
      ]
     },
     "metadata": {
      "needs_background": "light"
     },
     "output_type": "display_data"
    }
   ],
   "source": [
    "ax3=sns.countplot(x='language',data=train, order=train['language'].value_counts().index)"
   ]
  },
  {
   "cell_type": "markdown",
   "metadata": {},
   "source": [
    "- English accounts for the most of users who booked a trip."
   ]
  },
  {
   "cell_type": "markdown",
   "metadata": {},
   "source": [
    "1.4 country vs sign_up method"
   ]
  },
  {
   "cell_type": "code",
   "execution_count": 741,
   "metadata": {},
   "outputs": [
    {
     "data": {
      "image/png": "[encoded data removed]",
      "text/plain": [
       "<Figure size 432x288 with 1 Axes>"
      ]
     },
     "metadata": {
      "needs_background": "light"
     },
     "output_type": "display_data"
    }
   ],
   "source": [
    "ax4=sns.countplot(x='signup_method', data=train,hue='country')"
   ]
  },
  {
   "cell_type": "markdown",
   "metadata": {},
   "source": [
    "Basic and facebook is the most popular sign up method for all destination."
   ]
  },
  {
   "cell_type": "markdown",
   "metadata": {},
   "source": [
    "1.5 country vs affiliate provider"
   ]
  },
  {
   "cell_type": "code",
   "execution_count": 742,
   "metadata": {},
   "outputs": [
    {
     "data": {
      "text/plain": [
       "<matplotlib.axes._subplots.AxesSubplot at 0x1a56d7ded0>"
      ]
     },
     "execution_count": 742,
     "metadata": {},
     "output_type": "execute_result"
    },
    {
     "data": {
      "image/png": "[encoded data removed]",
      "text/plain": [
       "<Figure size 432x288 with 1 Axes>"
      ]
     },
     "metadata": {
      "needs_background": "light"
     },
     "output_type": "display_data"
    }
   ],
   "source": [
    "x, y, hue = \"affiliate_prov_group\", \"proportion\", \"country\"\n",
    "hue_order = [\"NDF\", \"US\",\"Outside US\"]\n",
    "\n",
    "(train[x]\n",
    " .groupby(train[hue])\n",
    " .value_counts(normalize=True)\n",
    " .rename(y)\n",
    " .reset_index()\n",
    " .pipe((sns.barplot, \"data\"), x=x, y=y, hue=hue))"
   ]
  },
  {
   "cell_type": "markdown",
   "metadata": {},
   "source": [
    "- Direct and google accounts most."
   ]
  },
  {
   "cell_type": "markdown",
   "metadata": {},
   "source": [
    "6. country vs signup_app"
   ]
  },
  {
   "cell_type": "code",
   "execution_count": 743,
   "metadata": {},
   "outputs": [
    {
     "data": {
      "image/png": "[encoded data removed]",
      "text/plain": [
       "<Figure size 432x288 with 1 Axes>"
      ]
     },
     "metadata": {
      "needs_background": "light"
     },
     "output_type": "display_data"
    }
   ],
   "source": [
    "x, y, hue = \"signup_app\", \"proportion\", \"country\"\n",
    "hue_order = [\"NDF\", \"US\",\"Outside US\"]\n",
    "\n",
    "(train[x]\n",
    " .groupby(train[hue])\n",
    " .value_counts(normalize=True)\n",
    " .rename(y)\n",
    " .reset_index()\n",
    " .pipe((sns.barplot, \"data\"), x=x, y=y, hue=hue))\n",
    "\n",
    "plt.tight_layout()"
   ]
  },
  {
   "cell_type": "markdown",
   "metadata": {},
   "source": [
    "Web accounts the most. Web-signup user acccounts for more than 80\\% users who booked a trip to U.S and Outside U.S ."
   ]
  },
  {
   "cell_type": "markdown",
   "metadata": {},
   "source": [
    "7. country vs first_device"
   ]
  },
  {
   "cell_type": "code",
   "execution_count": 744,
   "metadata": {},
   "outputs": [
    {
     "data": {
      "image/png": "[encoded data removed]",
      "text/plain": [
       "<Figure size 576x432 with 1 Axes>"
      ]
     },
     "metadata": {
      "needs_background": "light"
     },
     "output_type": "display_data"
    }
   ],
   "source": [
    "plt.figure(figsize=(8,6))\n",
    "x, y, hue = \"first_device_type\", \"proportion\", \"country\"\n",
    "hue_order = [\"NDF\", \"US\",\"Outside US\"]\n",
    "\n",
    "ax7=(train[x]\n",
    " .groupby(train[hue])\n",
    " .value_counts(normalize=True)\n",
    " .rename(y)\n",
    " .reset_index()\n",
    " .pipe((sns.barplot, \"data\"), x=x, y=y, hue=hue))\n",
    "\n",
    "ax7.set_xticklabels(ax7.get_xticklabels(),rotation=40, ha='right')\n",
    "plt.tight_layout()\n",
    "plt.show()"
   ]
  },
  {
   "cell_type": "markdown",
   "metadata": {},
   "source": [
    "Most people who use Airbnb for the first time is through MAC and Windows desktop rather than mobile devices. Follwed are iPhone and iPad."
   ]
  },
  {
   "cell_type": "markdown",
   "metadata": {},
   "source": [
    "8. country vs first_browser"
   ]
  },
  {
   "cell_type": "code",
   "execution_count": 745,
   "metadata": {},
   "outputs": [
    {
     "data": {
      "image/png": "[encoded data removed]",
      "text/plain": [
       "<Figure size 432x288 with 1 Axes>"
      ]
     },
     "metadata": {
      "needs_background": "light"
     },
     "output_type": "display_data"
    }
   ],
   "source": [
    "x, y, hue='first_browser_group','proportion','country'\n",
    "hue_order=['NDF','US','Outside US']\n",
    "\n",
    "ax8=(train[x]\n",
    "    .groupby(train[hue])\n",
    "    .value_counts(normalize=True)\n",
    "    .rename(y)\n",
    "    .reset_index()\n",
    "    .pipe((sns.barplot, 'data'),x=x, y=y, hue=hue))"
   ]
  },
  {
   "cell_type": "markdown",
   "metadata": {},
   "source": [
    "### Model Building "
   ]
  },
  {
   "cell_type": "markdown",
   "metadata": {},
   "source": [
    "#### Convert data format"
   ]
  },
  {
   "cell_type": "code",
   "execution_count": 746,
   "metadata": {},
   "outputs": [],
   "source": [
    "del_columns=[\"id\",\"affiliate_provider\", \"first_browser\", \"country_destination\",\n",
    "            \"date_account_created\",\"timestamp_first_active\",\"date_first_booking\",'age_group']\n",
    "\n",
    "for i in del_columns:\n",
    "    if i in train.columns:\n",
    "        train.drop([i],axis=1,inplace=True)\n",
    "        \n",
    "        "
   ]
  },
  {
   "cell_type": "code",
   "execution_count": 747,
   "metadata": {},
   "outputs": [
    {
     "name": "stdout",
     "output_type": "stream",
     "text": [
      "<class 'pandas.core.frame.DataFrame'>\n",
      "RangeIndex: 213451 entries, 0 to 213450\n",
      "Data columns (total 12 columns):\n",
      " #   Column                   Non-Null Count   Dtype  \n",
      "---  ------                   --------------   -----  \n",
      " 0   gender                   213451 non-null  object \n",
      " 1   age                      213451 non-null  float64\n",
      " 2   signup_method            213451 non-null  object \n",
      " 3   signup_flow              213451 non-null  int64  \n",
      " 4   language                 213451 non-null  object \n",
      " 5   affiliate_channel        213451 non-null  object \n",
      " 6   first_affiliate_tracked  207386 non-null  object \n",
      " 7   signup_app               213451 non-null  object \n",
      " 8   first_device_type        213451 non-null  object \n",
      " 9   country                  213451 non-null  object \n",
      " 10  affiliate_prov_group     213451 non-null  object \n",
      " 11  first_browser_group      213451 non-null  object \n",
      "dtypes: float64(1), int64(1), object(10)\n",
      "memory usage: 19.5+ MB\n"
     ]
    }
   ],
   "source": [
    "train.info()"
   ]
  },
  {
   "cell_type": "raw",
   "metadata": {},
   "source": [
    "Transform the categorical feature"
   ]
  },
  {
   "cell_type": "code",
   "execution_count": 748,
   "metadata": {},
   "outputs": [],
   "source": [
    "train['gender']=pd.factorize(train.gender)[0]\n",
    "train['signup_method']=pd.factorize(train.signup_method)[0]\n",
    "train['language']=pd.factorize(train.language)[0]\n",
    "train['affiliate_channel']=pd.factorize(train.affiliate_channel)[0]\n",
    "train['first_affiliate_tracked']=pd.factorize(train.first_affiliate_tracked)[0]\n",
    "train['signup_app']=pd.factorize(train.signup_app)[0]\n",
    "train['first_device_type']=pd.factorize(train.first_device_type)[0]\n",
    "train['affiliate_prov_group']=pd.factorize(train.affiliate_prov_group)[0]\n",
    "train['first_browser_group']=pd.factorize(train.first_browser_group)[0]"
   ]
  },
  {
   "cell_type": "code",
   "execution_count": 749,
   "metadata": {},
   "outputs": [
    {
     "name": "stdout",
     "output_type": "stream",
     "text": [
      "<class 'pandas.core.frame.DataFrame'>\n",
      "RangeIndex: 213451 entries, 0 to 213450\n",
      "Data columns (total 12 columns):\n",
      " #   Column                   Non-Null Count   Dtype  \n",
      "---  ------                   --------------   -----  \n",
      " 0   gender                   213451 non-null  int64  \n",
      " 1   age                      213451 non-null  float64\n",
      " 2   signup_method            213451 non-null  int64  \n",
      " 3   signup_flow              213451 non-null  int64  \n",
      " 4   language                 213451 non-null  int64  \n",
      " 5   affiliate_channel        213451 non-null  int64  \n",
      " 6   first_affiliate_tracked  213451 non-null  int64  \n",
      " 7   signup_app               213451 non-null  int64  \n",
      " 8   first_device_type        213451 non-null  int64  \n",
      " 9   country                  213451 non-null  object \n",
      " 10  affiliate_prov_group     213451 non-null  int64  \n",
      " 11  first_browser_group      213451 non-null  int64  \n",
      "dtypes: float64(1), int64(10), object(1)\n",
      "memory usage: 19.5+ MB\n"
     ]
    }
   ],
   "source": [
    "train.info()"
   ]
  },
  {
   "cell_type": "markdown",
   "metadata": {},
   "source": [
    "#### Train Test split"
   ]
  },
  {
   "cell_type": "code",
   "execution_count": 750,
   "metadata": {},
   "outputs": [],
   "source": [
    "from sklearn.model_selection import train_test_split"
   ]
  },
  {
   "cell_type": "code",
   "execution_count": 751,
   "metadata": {},
   "outputs": [],
   "source": [
    "X= train.drop(['country'], axis=1)\n",
    "y=train['country']"
   ]
  },
  {
   "cell_type": "code",
   "execution_count": 752,
   "metadata": {},
   "outputs": [],
   "source": [
    "X_train, X_test, y_train, y_test = train_test_split(\n",
    "     X, y, test_size=0.30, random_state=101)"
   ]
  },
  {
   "cell_type": "markdown",
   "metadata": {},
   "source": [
    "#### Random Forest"
   ]
  },
  {
   "cell_type": "code",
   "execution_count": 753,
   "metadata": {},
   "outputs": [
    {
     "data": {
      "text/plain": [
       "RandomForestClassifier(bootstrap=True, ccp_alpha=0.0, class_weight=None,\n",
       "                       criterion='gini', max_depth=None, max_features='auto',\n",
       "                       max_leaf_nodes=None, max_samples=None,\n",
       "                       min_impurity_decrease=0.0, min_impurity_split=None,\n",
       "                       min_samples_leaf=1, min_samples_split=2,\n",
       "                       min_weight_fraction_leaf=0.0, n_estimators=300,\n",
       "                       n_jobs=None, oob_score=False, random_state=None,\n",
       "                       verbose=0, warm_start=False)"
      ]
     },
     "execution_count": 753,
     "metadata": {},
     "output_type": "execute_result"
    }
   ],
   "source": [
    "from sklearn.ensemble import RandomForestClassifier\n",
    "rfc = RandomForestClassifier(n_estimators=300)\n",
    "rfc.fit(X_train, y_train)"
   ]
  },
  {
   "cell_type": "code",
   "execution_count": 754,
   "metadata": {},
   "outputs": [
    {
     "name": "stdout",
     "output_type": "stream",
     "text": [
      "              precision    recall  f1-score   support\n",
      "\n",
      "         NDF       0.67      0.82      0.74     37251\n",
      "  Outside US       0.21      0.06      0.10      8010\n",
      "          US       0.46      0.40      0.43     18775\n",
      "\n",
      "    accuracy                           0.60     64036\n",
      "   macro avg       0.45      0.43      0.42     64036\n",
      "weighted avg       0.55      0.60      0.57     64036\n",
      "\n"
     ]
    }
   ],
   "source": [
    "from sklearn.metrics import classification_report,confusion_matrix\n",
    "rfc_pred=rfc.predict(X_test)\n",
    "print(classification_report(y_test,rfc_pred))"
   ]
  },
  {
   "cell_type": "code",
   "execution_count": 755,
   "metadata": {},
   "outputs": [
    {
     "name": "stdout",
     "output_type": "stream",
     "text": [
      "                         Importance\n",
      "age                        0.495835\n",
      "first_browser_group        0.087654\n",
      "first_affiliate_tracked    0.075152\n",
      "signup_method              0.067192\n",
      "first_device_type          0.054313\n",
      "signup_flow                0.052217\n",
      "gender                     0.046466\n",
      "affiliate_channel          0.043563\n",
      "affiliate_prov_group       0.030344\n",
      "language                   0.029490\n",
      "signup_app                 0.017773\n"
     ]
    }
   ],
   "source": [
    "feature_importances=pd.DataFrame(rfc.feature_importances_, index=X_train.columns, columns=['Importance']).sort_values('Importance', ascending=False)\n",
    "print(feature_importances)"
   ]
  },
  {
   "cell_type": "code",
   "execution_count": null,
   "metadata": {},
   "outputs": [],
   "source": []
  }
 ],
 "metadata": {
  "kernelspec": {
   "display_name": "Python 3",
   "language": "python",
   "name": "python3"
  },
  "language_info": {
   "codemirror_mode": {
    "name": "ipython",
    "version": 3
   },
   "file_extension": ".py",
   "mimetype": "text/x-python",
   "name": "python",
   "nbconvert_exporter": "python",
   "pygments_lexer": "ipython3",
   "version": "3.7.6"
  }
 },
 "nbformat": 4,
 "nbformat_minor": 4
}
